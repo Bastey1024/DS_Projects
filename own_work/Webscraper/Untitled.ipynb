{
 "cells": [
  {
   "cell_type": "code",
   "execution_count": 3,
   "metadata": {},
   "outputs": [],
   "source": [
    "import requests"
   ]
  },
  {
   "cell_type": "code",
   "execution_count": 10,
   "metadata": {},
   "outputs": [],
   "source": [
    "response= requests.get('https://1602.annowiki.de/index.php?title=Stadtplanung')"
   ]
  },
  {
   "cell_type": "code",
   "execution_count": 12,
   "metadata": {},
   "outputs": [],
   "source": [
    "begin = response.text.find('eine eher')"
   ]
  },
  {
   "cell_type": "markdown",
   "metadata": {},
   "source": [
    "# 2. Step convert to beautfyul supi"
   ]
  },
  {
   "cell_type": "code",
   "execution_count": 14,
   "metadata": {},
   "outputs": [],
   "source": [
    "from bs4 import BeautifulSoup"
   ]
  },
  {
   "cell_type": "code",
   "execution_count": 15,
   "metadata": {},
   "outputs": [],
   "source": [
    "soup = BeautifulSoup(response.text)"
   ]
  },
  {
   "cell_type": "markdown",
   "metadata": {},
   "source": [
    "# Use BeautifulSoup object to parse the HTML Document Tree"
   ]
  },
  {
   "cell_type": "markdown",
   "metadata": {},
   "source": [
    "down to the tags/elements that contain the data we want."
   ]
  },
  {
   "cell_type": "code",
   "execution_count": 17,
   "metadata": {},
   "outputs": [],
   "source": [
    "# How does it work? "
   ]
  },
  {
   "cell_type": "code",
   "execution_count": 23,
   "metadata": {},
   "outputs": [
    {
     "data": {
      "text/plain": [
       "<div id=\"globalWrapper\">\n",
       "<div id=\"column-content\"><div id=\"content\">\n",
       "<a id=\"top\"></a>\n",
       "<h1 class=\"firstHeading\" id=\"firstHeading\">Stadtplanung</h1>\n",
       "<div id=\"bodyContent\">\n",
       "<div id=\"siteSub\">Aus AnnoWiki 1602</div>\n",
       "<div id=\"contentSub\"></div>\n",
       "<div id=\"jump-to-nav\">Wechseln zu: <a href=\"#column-one\">Navigation</a>, <a href=\"#searchInput\">Suche</a></div>\n",
       "<!-- start content -->\n",
       "<p>Manche Spieler bevorzugen eine eher \"chaotische\" Bauweise, um ihre Stadt lebendig wirken zu lassen. Andere folgen einer durchdachten, kompakten <b>Stadtplanung</b>, die \n",
       "</p>\n",
       "<ul><li>den vorhandenen Platz optimal ausnutzt, \n",
       "</li><li>mit einem Minimum an <a href=\"/index.php?title=%C3%96ffentliche_Geb%C3%A4ude\" title=\"Öffentliche Gebäude\">öffentlichen Gebäuden</a> auskommt und dadurch die Kosten für deren Unterhalt begrenzt\n",
       "</li><li>auf engem Raum möglichst viele Einwohner ansiedelt.\n",
       "</li></ul>\n",
       "<p>Bekannte Layouts sind die Groß- und Kleinstädte von [<a class=\"external text\" href=\"https://www.annozone.de/Charlie/frame.html\" rel=\"nofollow\" target=\"_blank\">Charlie</a>], es gibt aber z.B. auch das von lucifer. Für die meisten Spiele sind diese Layouts zwar überdimensioniert, man kann sie aber als Anregung für eigene Layouts verwenden.\n",
       "</p><p><br/>\n",
       "</p>\n",
       "<h3> <span class=\"mw-headline\" id=\"Charlies_Stadtviertel\">Charlies Stadtviertel</span></h3>\n",
       "<p><img alt=\"stadtviertel.gif\" src=\"https://www.annozone.de/Charlie/Stadtplanung/stadtviertel.gif\"/>\n",
       "</p><p>Charlies Stadtviertel; Großansicht: <a class=\"external autonumber\" href=\"https://www.annozone.de/Charlie/Stadtplanung/stadtviertel.jpg\" rel=\"nofollow\" target=\"_blank\">[1]</a>\n",
       "</p><p><br/>\n",
       "In diesem Stadtviertel gibt es 92 Häuser, hier können daher bis zu 3.680 Aristokraten leben.\n",
       "</p><p><br/>\n",
       "</p>\n",
       "<h3> <span class=\"mw-headline\" id=\"Charlies_Kleinstadt\">Charlies Kleinstadt</span></h3>\n",
       "<p><img alt=\"kleinstadt_01s.gif\" src=\"https://www.annozone.de/Charlie/Stadtplanung/kleinstadt_01s.gif\"/>\n",
       "</p><p>Charlies Kleinstadt; Großansicht: <a class=\"external autonumber\" href=\"https://www.annozone.de/Charlie/Stadtplanung/kleinstadt_01.gif\" rel=\"nofollow\" target=\"_blank\">[2]</a>)\n",
       "</p><p>Diese Stadt beherbergt 40 Häuser oder maximal 1600 Aristokraten (bzw. 1000 Kaufleute); wenn man auf die Feuerwehren verzichtet, können noch zwei Häuser mehr gebaut werden (42 Häuser=1680 Aristokraten bzw. 1050 Kaufleute).\n",
       "</p><p><br/>\n",
       "</p>\n",
       "<h3> <span class=\"mw-headline\" id=\"Lucifers_Gro.C3.9Fstadt\">Lucifers Großstadt</span></h3>\n",
       "<div class=\"thumb tleft\"><div class=\"thumbinner\" style=\"width:182px;\"><a class=\"image\" href=\"/index.php?title=Datei:Lucifers_Stadtplanung_1602.jpg\"><img alt=\"\" class=\"thumbimage\" height=\"135\" src=\"/images/thumb/Lucifers_Stadtplanung_1602.jpg/180px-Lucifers_Stadtplanung_1602.jpg\" width=\"180\"/></a> <div class=\"thumbcaption\"><div class=\"magnify\"><a class=\"internal\" href=\"/index.php?title=Datei:Lucifers_Stadtplanung_1602.jpg\" title=\"vergrößern\"><img alt=\"\" height=\"11\" src=\"/skins/common/images/magnify-clip.png\" width=\"15\"/></a></div>Lucifers Großstadt</div></div></div>\n",
       "<p>Lucifer bringt hier 64 Häuser auf engstem Raum unter (entspricht 2560 Aristokraten). Nachteilig ist, daß das mittlere Haus der 3x3-Blöcke nicht von der Feuerwehr erreicht werden kann; die gerade bei Pionieren und Siedlern auftretenden Brände können daher u.U. unangenehme Folgen haben (Abhilfe: Zugang zum mittleren Haus bis zum Status Bürger gewährleisten und diesen erst später mit einem Haus blockieren). Außerdem benötigt man hier zwei Wirtshäuser und muß zumindest beim Ausbau zur Aristokraten mit eingeschränken Wege-Layouts leben. Diese Nachteile lassen sich aber sicher verschmerzen, insbesondere wenn alle Häuser gebaut sind und die Steuereinnahmen sprudeln.\n",
       "</p>\n",
       "<!-- \n",
       "NewPP limit report\n",
       "Preprocessor node count: 11/1000000\n",
       "Post-expand include size: 0/2097152 bytes\n",
       "Template argument size: 0/2097152 bytes\n",
       "Expensive parser function count: 0/100\n",
       "-->\n",
       "<!-- Saved in parser cache with key c1annowiki-1602_:pcache:idhash:1414-0!*!0!!*!2!edit=0 and timestamp 20190923133827 -->\n",
       "<div class=\"printfooter\">\n",
       "Von „<a href=\"https://1602.annowiki.de/index.php?title=Stadtplanung\">https://1602.annowiki.de/index.php?title=Stadtplanung</a>“</div>\n",
       "<div class=\"catlinks\" id=\"catlinks\"><div id=\"mw-normal-catlinks\"><a href=\"/index.php?title=Spezial:Kategorien\" title=\"Spezial:Kategorien\">Kategorie</a>: <span dir=\"ltr\"><a href=\"/index.php?title=Kategorie:Anno_1602\" title=\"Kategorie:Anno 1602\">Anno 1602</a></span></div></div> <!-- end content -->\n",
       "<div class=\"visualClear\"></div>\n",
       "</div>\n",
       "</div></div>\n",
       "<div id=\"column-one\">\n",
       "<div class=\"portlet\" id=\"p-cactions\">\n",
       "<h5>Ansichten</h5>\n",
       "<div class=\"pBody\">\n",
       "<ul>\n",
       "<li class=\"selected\" id=\"ca-nstab-main\"><a accesskey=\"c\" href=\"/index.php?title=Stadtplanung\" title=\"Seiteninhalt anzeigen [c]\">Seite</a></li>\n",
       "<li class=\"new\" id=\"ca-talk\"><a accesskey=\"t\" href=\"/index.php?title=Diskussion:Stadtplanung&amp;action=edit&amp;redlink=1\" title=\"Diskussion zum Seiteninhalt [t]\">Diskussion</a></li>\n",
       "<li id=\"ca-viewsource\"><a accesskey=\"e\" href=\"/index.php?title=Stadtplanung&amp;action=edit\" title=\"Diese Seite ist geschützt. Der Quelltext kann angesehen werden. [e]\">Quelltext anzeigen</a></li>\n",
       "<li id=\"ca-history\"><a accesskey=\"h\" href=\"/index.php?title=Stadtplanung&amp;action=history\" title=\"Frühere Versionen dieser Seite [h]\">Versionen/Autoren</a></li>\n",
       "</ul>\n",
       "</div>\n",
       "</div>\n",
       "<div class=\"portlet\" id=\"p-personal\">\n",
       "<h5>Meine Werkzeuge</h5>\n",
       "<div class=\"pBody\">\n",
       "<ul>\n",
       "<li id=\"pt-login\"><a accesskey=\"o\" href=\"/index.php?title=Spezial:Anmelden&amp;returnto=Stadtplanung\" title=\"Sich anzumelden wird zwar gerne gesehen, ist aber keine Pflicht. [o]\">Anmelden</a></li>\n",
       "</ul>\n",
       "</div>\n",
       "</div>\n",
       "<div class=\"portlet\" id=\"p-logo\">\n",
       "<a href=\"/index.php?title=Hauptseite\" style=\"background-image: url(/skins/common/images/wiki.png);\" title=\"Hauptseite\"></a>\n",
       "</div>\n",
       "<script type=\"text/javascript\"> if (window.isMSIE55) fixalpha(); </script>\n",
       "<div class=\"generated-sidebar portlet\" id=\"p-navigation\">\n",
       "<h5>Navigation</h5>\n",
       "<div class=\"pBody\">\n",
       "<ul>\n",
       "<li id=\"n-mainpage\"><a accesskey=\"z\" href=\"/index.php?title=Hauptseite\" title=\"Hauptseite anzeigen [z]\">Hauptseite</a></li>\n",
       "<li id=\"n-Alle-AnnoWikis\"><a href=\"http://www.annowiki.de\">Alle AnnoWikis</a></li>\n",
       "<li id=\"n-Wiki-Forum\"><a href=\"http://www.annozone.de/forum/board.php?boardid=35\">Wiki-Forum</a></li>\n",
       "</ul>\n",
       "</div>\n",
       "</div>\n",
       "<div class=\"generated-sidebar portlet\" id=\"p-1602\">\n",
       "<h5>1602</h5>\n",
       "<div class=\"pBody\">\n",
       "<ul>\n",
       "<li id=\"n-Game-Info\"><a href=\"/index.php?title=AnnoWiki_1602:Gemeinschafts-Portal\">Game-Info</a></li>\n",
       "<li id=\"n-Themen-.C3.9Cbersicht\"><a href=\"/index.php?title=Kategorie:Anno_1602\">Themen-Übersicht</a></li>\n",
       "</ul>\n",
       "</div>\n",
       "</div>\n",
       "<div class=\"generated-sidebar portlet\" id=\"p-1602-Wiki\">\n",
       "<h5>1602-Wiki</h5>\n",
       "<div class=\"pBody\">\n",
       "<ul>\n",
       "<li id=\"n-help\"><a href=\"/index.php?title=AnnoWiki_1602:Hilfe\" title=\"Hilfeseite anzeigen\">Hilfe</a></li>\n",
       "<li id=\"n-Index\"><a href=\"/index.php?title=Spezial:Alle_Seiten\">Index</a></li>\n",
       "<li id=\"n-randompage\"><a accesskey=\"x\" href=\"/index.php?title=Spezial:Zuf%C3%A4llige_Seite\" title=\"Zufällige Seite [x]\">Zufällige Seite</a></li>\n",
       "<li id=\"n-recentchanges\"><a accesskey=\"r\" href=\"/index.php?title=Spezial:Letzte_%C3%84nderungen\" title=\"Liste der letzten Änderungen in AnnoWiki 1602 [r]\">Letzte Änderungen</a></li>\n",
       "</ul>\n",
       "</div>\n",
       "</div>\n",
       "<div class=\"portlet\" id=\"p-search\">\n",
       "<h5><label for=\"searchInput\">Suche</label></h5>\n",
       "<div class=\"pBody\" id=\"searchBody\">\n",
       "<form action=\"/index.php\" id=\"searchform\">\n",
       "<input name=\"title\" type=\"hidden\" value=\"Spezial:Suche\"/>\n",
       "<input accesskey=\"f\" id=\"searchInput\" name=\"search\" title=\"AnnoWiki 1602 durchsuchen\" type=\"search\"/>\n",
       "<input class=\"searchButton\" id=\"searchGoButton\" name=\"go\" title=\"Gehe direkt zu der Seite, die exakt dem eingegebenen Namen entspricht.\" type=\"submit\" value=\"Seite\"/> \n",
       "\t\t\t\t<input class=\"searchButton\" id=\"mw-searchButton\" name=\"fulltext\" title=\"Suche nach Seiten, die diesen Text enthalten\" type=\"submit\" value=\"Suchen\"/>\n",
       "</form>\n",
       "</div>\n",
       "</div>\n",
       "<div class=\"portlet\" id=\"p-tb\">\n",
       "<h5>Werkzeuge</h5>\n",
       "<div class=\"pBody\">\n",
       "<ul>\n",
       "<li id=\"t-whatlinkshere\"><a accesskey=\"j\" href=\"/index.php?title=Spezial:Linkliste/Stadtplanung\" title=\"Liste aller Seiten, die hierher verlinken [j]\">Links auf diese Seite</a></li>\n",
       "<li id=\"t-recentchangeslinked\"><a accesskey=\"k\" href=\"/index.php?title=Spezial:%C3%84nderungen_an_verlinkten_Seiten/Stadtplanung\" title=\"Letzte Änderungen an Seiten, die von hier verlinkt sind [k]\">Änderungen an verlinkten Seiten</a></li>\n",
       "<li id=\"t-specialpages\"><a accesskey=\"q\" href=\"/index.php?title=Spezial:Spezialseiten\" title=\"Liste aller Spezialseiten [q]\">Spezialseiten</a></li>\n",
       "<li id=\"t-print\"><a accesskey=\"p\" href=\"/index.php?title=Stadtplanung&amp;printable=yes\" rel=\"alternate\" title=\"Druckansicht dieser Seite [p]\">Druckversion</a></li> <li id=\"t-permalink\"><a href=\"/index.php?title=Stadtplanung&amp;oldid=2877\" title=\"Dauerhafter Link zu dieser Seitenversion\">Permanenter Link</a></li> </ul>\n",
       "</div>\n",
       "</div>\n",
       "</div><!-- end of the left (by default at least) column -->\n",
       "<div class=\"visualClear\"></div>\n",
       "<div id=\"footer\">\n",
       "<div id=\"f-poweredbyico\">\n",
       "<a href=\"http://www.mediawiki.org/\"><img alt=\"Powered by MediaWiki\" height=\"31\" src=\"/skins/common/images/poweredby_mediawiki_88x31.png\" width=\"88\"/></a>\n",
       "</div>\n",
       "<ul id=\"f-list\">\n",
       "<li id=\"lastmod\"> Diese Seite wurde zuletzt am 7. April 2018 um 08:58 Uhr geändert.</li>\n",
       "<li id=\"viewcount\">Diese Seite wurde bisher 51.609-mal abgerufen.</li>\n",
       "<li id=\"privacy\"><a href=\"/index.php?title=AnnoWiki_1602:Datenschutz\" title=\"AnnoWiki 1602:Datenschutz\">Datenschutz</a></li>\n",
       "<li id=\"about\"><a href=\"/index.php?title=AnnoWiki_1602:%C3%9Cber\" title=\"AnnoWiki 1602:Über\">Über AnnoWiki 1602</a></li>\n",
       "<li id=\"disclaimer\"><a href=\"/index.php?title=AnnoWiki_1602:Impressum\" title=\"AnnoWiki 1602:Impressum\">Impressum</a></li>\n",
       "</ul>\n",
       "</div>\n",
       "</div>"
      ]
     },
     "execution_count": 23,
     "metadata": {},
     "output_type": "execute_result"
    }
   ],
   "source": [
    "soup.body.div"
   ]
  },
  {
   "cell_type": "code",
   "execution_count": 24,
   "metadata": {},
   "outputs": [
    {
     "data": {
      "text/plain": [
       "<p>Manche Spieler bevorzugen eine eher \"chaotische\" Bauweise, um ihre Stadt lebendig wirken zu lassen. Andere folgen einer durchdachten, kompakten <b>Stadtplanung</b>, die \n",
       "</p>"
      ]
     },
     "execution_count": 24,
     "metadata": {},
     "output_type": "execute_result"
    }
   ],
   "source": [
    "soup.body.div.p"
   ]
  },
  {
   "cell_type": "code",
   "execution_count": 26,
   "metadata": {},
   "outputs": [
    {
     "data": {
      "text/plain": [
       "'Manche Spieler bevorzugen eine eher \"chaotische\" Bauweise, um ihre Stadt lebendig wirken zu lassen. Andere folgen einer durchdachten, kompakten Stadtplanung, die \\n'"
      ]
     },
     "execution_count": 26,
     "metadata": {},
     "output_type": "execute_result"
    }
   ],
   "source": [
    "soup.body.div.p.text"
   ]
  },
  {
   "cell_type": "markdown",
   "metadata": {},
   "source": [
    "# We can use the nested hierachical structure to get to the information we want"
   ]
  },
  {
   "cell_type": "markdown",
   "metadata": {},
   "source": [
    "If there are more than one P's we only get the first instance. But basically we can descent directly to a piece of text using dot notation"
   ]
  },
  {
   "cell_type": "markdown",
   "metadata": {},
   "source": [
    "# .find()  Always returns the first instance\n",
    "# .find_all() returns a list-like object called \"Result set\" that contains at least one matching result --> Cool weil mit Index zugreifbar\n",
    "# .text returns only the text\n",
    "\n",
    "# Bei Class einen Unterstrich!"
   ]
  },
  {
   "cell_type": "markdown",
   "metadata": {},
   "source": [
    "We can write somethink that can grab the Node of the tree."
   ]
  },
  {
   "cell_type": "code",
   "execution_count": 43,
   "metadata": {},
   "outputs": [
    {
     "data": {
      "text/plain": [
       "'\\nAus AnnoWiki 1602\\n\\nWechseln zu: Navigation, Suche\\n\\nManche Spieler bevorzugen eine eher \"chaotische\" Bauweise, um ihre Stadt lebendig wirken zu lassen. Andere folgen einer durchdachten, kompakten Stadtplanung, die \\n\\nden vorhandenen Platz optimal ausnutzt, \\nmit einem Minimum an öffentlichen Gebäuden auskommt und dadurch die Kosten für deren Unterhalt begrenzt\\nauf engem Raum möglichst viele Einwohner ansiedelt.\\n\\nBekannte Layouts sind die Groß- und Kleinstädte von [Charlie], es gibt aber z.B. auch das von lucifer. Für die meisten Spiele sind diese Layouts zwar überdimensioniert, man kann sie aber als Anregung für eigene Layouts verwenden.\\n\\n\\n Charlies Stadtviertel\\n\\nCharlies Stadtviertel; Großansicht: [1]\\n\\nIn diesem Stadtviertel gibt es 92 Häuser, hier können daher bis zu 3.680 Aristokraten leben.\\n\\n\\n Charlies Kleinstadt\\n\\nCharlies Kleinstadt; Großansicht: [2])\\nDiese Stadt beherbergt 40 Häuser oder maximal 1600 Aristokraten (bzw. 1000 Kaufleute); wenn man auf die Feuerwehren verzichtet, können noch zwei Häuser mehr gebaut werden (42 Häuser=1680 Aristokraten bzw. 1050 Kaufleute).\\n\\n\\n Lucifers Großstadt\\n Lucifers Großstadt\\nLucifer bringt hier 64 Häuser auf engstem Raum unter (entspricht 2560 Aristokraten). Nachteilig ist, daß das mittlere Haus der 3x3-Blöcke nicht von der Feuerwehr erreicht werden kann; die gerade bei Pionieren und Siedlern auftretenden Brände können daher u.U. unangenehme Folgen haben (Abhilfe: Zugang zum mittleren Haus bis zum Status Bürger gewährleisten und diesen erst später mit einem Haus blockieren). Außerdem benötigt man hier zwei Wirtshäuser und muß zumindest beim Ausbau zur Aristokraten mit eingeschränken Wege-Layouts leben. Diese Nachteile lassen sich aber sicher verschmerzen, insbesondere wenn alle Häuser gebaut sind und die Steuereinnahmen sprudeln.\\n\\n\\n\\n\\nVon „https://1602.annowiki.de/index.php?title=Stadtplanung“\\nKategorie: Anno 1602 \\n\\n'"
      ]
     },
     "execution_count": 43,
     "metadata": {},
     "output_type": "execute_result"
    }
   ],
   "source": [
    "soup.find(id=\"bodyContent\").text"
   ]
  },
  {
   "cell_type": "code",
   "execution_count": 46,
   "metadata": {},
   "outputs": [
    {
     "name": "stdout",
     "output_type": "stream",
     "text": [
      "\n",
      "\n"
     ]
    },
    {
     "ename": "NameError",
     "evalue": "name 'urls' is not defined",
     "output_type": "error",
     "traceback": [
      "\u001b[1;31m---------------------------------------------------------------------------\u001b[0m",
      "\u001b[1;31mNameError\u001b[0m                                 Traceback (most recent call last)",
      "\u001b[1;32m<ipython-input-46-32bb2a0f83ea>\u001b[0m in \u001b[0;36m<module>\u001b[1;34m\u001b[0m\n\u001b[0;32m      2\u001b[0m     \u001b[0mprint\u001b[0m\u001b[1;33m(\u001b[0m\u001b[0melem\u001b[0m\u001b[1;33m)\u001b[0m\u001b[1;33m\u001b[0m\u001b[1;33m\u001b[0m\u001b[0m\n\u001b[0;32m      3\u001b[0m \u001b[1;33m\u001b[0m\u001b[0m\n\u001b[1;32m----> 4\u001b[1;33m     \u001b[1;32mfor\u001b[0m \u001b[0mlink\u001b[0m \u001b[1;32min\u001b[0m \u001b[0murls\u001b[0m\u001b[1;33m:\u001b[0m\u001b[1;33m\u001b[0m\u001b[1;33m\u001b[0m\u001b[0m\n\u001b[0m\u001b[0;32m      5\u001b[0m         \u001b[0mrequests\u001b[0m\u001b[1;33m.\u001b[0m\u001b[0mget\u001b[0m\u001b[1;33m(\u001b[0m\u001b[0mlink\u001b[0m\u001b[1;33m)\u001b[0m\u001b[1;33m\u001b[0m\u001b[1;33m\u001b[0m\u001b[0m\n\u001b[0;32m      6\u001b[0m         \u001b[0mtime\u001b[0m\u001b[1;33m.\u001b[0m\u001b[0msleep\u001b[0m\u001b[1;33m(\u001b[0m\u001b[1;36m3\u001b[0m\u001b[1;33m)\u001b[0m\u001b[1;33m\u001b[0m\u001b[1;33m\u001b[0m\u001b[0m\n",
      "\u001b[1;31mNameError\u001b[0m: name 'urls' is not defined"
     ]
    }
   ],
   "source": [
    "for elem in soup.find(id=\"bodyContent\"):\n",
    "    print(elem)\n",
    "    \n",
    "    for link in urls:\n",
    "        requests.get(link)\n",
    "        time.sleep(3)"
   ]
  }
 ],
 "metadata": {
  "kernelspec": {
   "display_name": "Python 3",
   "language": "python",
   "name": "python3"
  },
  "language_info": {
   "codemirror_mode": {
    "name": "ipython",
    "version": 3
   },
   "file_extension": ".py",
   "mimetype": "text/x-python",
   "name": "python",
   "nbconvert_exporter": "python",
   "pygments_lexer": "ipython3",
   "version": "3.7.6"
  }
 },
 "nbformat": 4,
 "nbformat_minor": 4
}
