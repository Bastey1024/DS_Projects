{
 "cells": [
  {
   "cell_type": "code",
   "execution_count": 163,
   "metadata": {
    "scrolled": true
   },
   "outputs": [],
   "source": [
    "import pandas as pd\n",
    "import numpy as np\n",
    "import matplotlib.pyplot as plt\n",
    "import imageio\n",
    "\n",
    "%matplotlib inline\n",
    "##read\n",
    "life = pd.read_excel('gapminder_lifeexpectancy.xlsx', index_col=0)\n",
    "fert= pd.read_csv('gapminder_total_fertility.csv',index_col=0)\n",
    "popu= pd.read_excel('gapminder_population.xlsx',index_col=0)\n",
    "\n",
    "#List comprehension for converting string to int\n",
    "ncol = [int(x) for x in fert.columns]\n",
    "fert.set_axis(axis=1, labels=ncol, inplace=True)"
   ]
  },
  {
   "cell_type": "code",
   "execution_count": 164,
   "metadata": {},
   "outputs": [],
   "source": [
    "## Data to Series\n",
    "sfert = fert.stack()\n",
    "spopu=popu.stack()\n",
    "slife = life.stack()\n",
    "\n",
    "\n",
    "\n",
    "##Define new dataframe\n",
    "d = {'fertility':sfert, 'lifeexp':slife, 'Population':spopu,}\n",
    "df2=pd.DataFrame(data=d)\n",
    "\n",
    "##lost track\n",
    "# #Reset hierachical index and give a name to new columns\n",
    "# df.reset_index(inplace=True)  ##Because hierachical index country /year\n",
    "# df.columns = ['country','year','fertility', 'lifeexp', 'population']\n",
    "# country = df.groupby('year')\n",
    "\n",
    "df3=df2.stack()\n",
    "df4=df3.unstack((0,2))    # Table with years life expectancy and fertility on side\n",
    "\n",
    "#testing\n",
    "# df4[['Germany', 'France', 'Sweden']].plot()\n",
    "\n",
    "df5 = df3.unstack(2)\n",
    "# df5.plot.scatter('fertility', 'lifeexp', s=0.1)\n"
   ]
  },
  {
   "cell_type": "code",
   "execution_count": 170,
   "metadata": {},
   "outputs": [],
   "source": [
    "##Specific years\n",
    "# df6 = df3.unstack(1)\n",
    "# df6 = df6[1960]\n",
    "# df6 = df6.unstack(1)\n",
    "# df6.plot.scatter('fertility', 'lifeexp', s=0.1)\n",
    "\n",
    "# cmap = plt.get_cmap('tab20', lut = len(df6)).colors\n",
    "# df6.plot.scatter('fertility', 'lifeexp', s=9, c=cmap)\n",
    "\n",
    "for year in range(1960,2016):\n",
    "    df6 = df3.unstack(1)    #\"Press\" the years in the column\n",
    "    df6 = df6 [year]        #connect to loop\n",
    "    df6 = df6.unstack(1)\n",
    "#     df6.plot.scatter('fertility','lifeexp', s=df6['Population']/1000000, c=cmap, title=f'Lifeexpectancy at Fertility in {year}') \n",
    "##Divide by population, to have an dynamic s\n",
    "#     plt.axis((0,10,0,90))  #set the min and max of the x-y axis\n",
    "#     plt.grid()\n",
    "#     plt.savefig(f'plots/life_expectancy_{year}.png')\n",
    "#     plt.show()\n",
    "\n"
   ]
  },
  {
   "cell_type": "code",
   "execution_count": 159,
   "metadata": {},
   "outputs": [],
   "source": [
    "# list_of_images = []\n",
    "\n",
    "# for year in range(1960,2016):\n",
    "#     im = imageio.imread(f'plots/life_expectancy_{year}.png')\n",
    "#     list_of_images.append(im)\n",
    "# list_of_images\n",
    "# imageio.mimsave('life_expectancy.gif', list_of_images, fps=5)"
   ]
  },
  {
   "cell_type": "code",
   "execution_count": null,
   "metadata": {},
   "outputs": [],
   "source": [
    "# fertility against life exp.        pop size \n",
    "# ##groupby / Filter \n",
    "# g1 = df.groupby('country')\n",
    "# g1.groups['Akrotiri']"
   ]
  }
 ],
 "metadata": {
  "kernelspec": {
   "display_name": "Python 3",
   "language": "python",
   "name": "python3"
  },
  "language_info": {
   "codemirror_mode": {
    "name": "ipython",
    "version": 3
   },
   "file_extension": ".py",
   "mimetype": "text/x-python",
   "name": "python",
   "nbconvert_exporter": "python",
   "pygments_lexer": "ipython3",
   "version": "3.7.6"
  }
 },
 "nbformat": 4,
 "nbformat_minor": 4
}
