{
 "cells": [
  {
   "cell_type": "code",
   "execution_count": 1,
   "metadata": {},
   "outputs": [
    {
     "data": {
      "text/plain": [
       "(800, 13)"
      ]
     },
     "execution_count": 1,
     "metadata": {},
     "output_type": "execute_result"
    }
   ],
   "source": [
    "import pandas as pd\n",
    "df=pd.read_csv('pokemon.csv')\n",
    "df.shape\n"
   ]
  },
  {
   "cell_type": "code",
   "execution_count": 2,
   "metadata": {},
   "outputs": [],
   "source": [
    "##read Headers\n",
    "# df.columns\n",
    "##read each column\n",
    "# df['Name']\n",
    "##multiple columns\n",
    "# df[['Name','HP']]\n",
    "##read each row\n",
    "# print(df.head(2))\n",
    "# print(df.iloc[1:4])\n",
    "##specific location\n",
    "# print(df.iloc[2,1])\n",
    "##iterate over rows\n",
    "# for index, row in df.iterrows():\n",
    "#     print (index,row['Name'])\n",
    "# give out only specified rows\n",
    "# Firepokemon= df.loc[df['Type 1'] == 'Fire']\n",
    "\n"
   ]
  },
  {
   "cell_type": "markdown",
   "metadata": {},
   "source": [
    "**sorting and Describing"
   ]
  },
  {
   "cell_type": "code",
   "execution_count": 3,
   "metadata": {},
   "outputs": [],
   "source": [
    "##High level statistics\n",
    "# df.describe()\n",
    "## sort values\n",
    "# df.sort_values('Name', ascending=False)\n",
    "# df.sort_values(['Name','HP'], ascending=[1,0])    ## Bei mehreren Argumenten immer Liste"
   ]
  },
  {
   "cell_type": "markdown",
   "metadata": {},
   "source": [
    "**Manipulate Data*"
   ]
  },
  {
   "cell_type": "markdown",
   "metadata": {},
   "source": [
    "**Advanced Filterung"
   ]
  },
  {
   "cell_type": "code",
   "execution_count": 4,
   "metadata": {},
   "outputs": [],
   "source": [
    "#Filtering by Conditions\n",
    "df.loc[ (df['Type 1'] == 'Fire') & (df['HP'] >= 100 ) | (df['Type 2'] == 'Water') ]  ## & | by convention\n",
    "powerPokemon= df.loc[ (df['Type 1'] == 'Fire') & (df['HP'] >= 100 ) | (df['Total']>=680) ]\n",
    "# powerPokemon.to_csv('HighHPFireOrBetter.csv')\n",
    "# powerPokemon = powerPokemon.reset_index(drop=True)  # Neuen Index anlegen und alten droppen\n",
    "# df.loc[~df['Name'].str.contains('Mega')]  # ~ means \"Not\" --> Execludes all Pokemon which have \"mega\" in Their Name\n",
    "\n",
    "# import re\n",
    "# df.loc[df['Type 1'].str.contains('fire|grass', flags=re.I, regex=True)] ## Because of Str. regex are open,powerful filter\n",
    "# df.loc[df['Name'].str.contains('^pi[a-z]*', flags=re.I, regex=True)] #regular expresseion: string contains (or starts ^)pi, any char a -z and hast 0 or more characters\n",
    "\n"
   ]
  },
  {
   "cell_type": "code",
   "execution_count": 5,
   "metadata": {},
   "outputs": [],
   "source": [
    "# df['Total'] = df['HP'] + df['Attack']+df['Defense']+ df['Sp. Atk'] + df['Sp. Def'] + df['Speed'] \n",
    "# df['Total'] = df.iloc[:, 4:10].sum(axis=1)\n",
    "\n",
    "\n"
   ]
  },
  {
   "cell_type": "markdown",
   "metadata": {},
   "source": [
    "**Conditional Changes "
   ]
  },
  {
   "cell_type": "code",
   "execution_count": 11,
   "metadata": {},
   "outputs": [],
   "source": [
    "# df.loc[df['Type 1'] == 'Fire', 'Type 1'] = 'Flamer'  ##Changes all Typ 1 Fire to Type 1 Flamer\n",
    "# df.loc[df['Total'] > 500, ['Generation' ,'Legendary']] = ['PowerVieh' ,'nasiggi'] ## When condition is met, switch gen and leg to  powervieh\n"
   ]
  },
  {
   "cell_type": "markdown",
   "metadata": {},
   "source": [
    "**Aggregate Statistic (Groupby)"
   ]
  },
  {
   "cell_type": "code",
   "execution_count": 29,
   "metadata": {},
   "outputs": [
    {
     "data": {
      "text/plain": [
       "Type 1  Type 2  \n",
       "Bug     Electric     2\n",
       "        Fighting     2\n",
       "        Fire         2\n",
       "        Flying      14\n",
       "        Ghost        1\n",
       "                    ..\n",
       "Water   Ice          3\n",
       "        Poison       3\n",
       "        Psychic      5\n",
       "        Rock         4\n",
       "        Steel        1\n",
       "Name: count, Length: 136, dtype: int64"
      ]
     },
     "execution_count": 29,
     "metadata": {},
     "output_type": "execute_result"
    }
   ],
   "source": [
    "# df.groupby(['Type 1']).mean().sort_values('Defense',ascending=False)  ##We look for the averages of all type 1 Pokemon and Sort the Types by Defense\n",
    "df['count'] = 1\n",
    "# df.groupby(['Type 1']).count()['count']  #counts all Pokemon by type and displays count column ---> Every statistik is possible mean, count sum etc.\n",
    "# df.groupby(['Type 1','Type 2']).count()['count']  # Add more subsets(Because of easy implemented count) "
   ]
  }
 ],
 "metadata": {
  "kernelspec": {
   "display_name": "Python 3",
   "language": "python",
   "name": "python3"
  },
  "language_info": {
   "codemirror_mode": {
    "name": "ipython",
    "version": 3
   },
   "file_extension": ".py",
   "mimetype": "text/x-python",
   "name": "python",
   "nbconvert_exporter": "python",
   "pygments_lexer": "ipython3",
   "version": "3.7.6"
  }
 },
 "nbformat": 4,
 "nbformat_minor": 4
}
