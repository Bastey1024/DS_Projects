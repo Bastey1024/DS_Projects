{
 "cells": [
  {
   "cell_type": "code",
   "execution_count": null,
   "metadata": {},
   "outputs": [],
   "source": [
    "s='my fat cat\\n'\n",
    "s.endswith('cat\\n') ##  returns boolena\n",
    "s.split()\n",
    "s[-6]\n",
    "s.upper()\n",
    "s.strip()\n",
    "s.replace('c','r')  # we get a fat rat\n",
    "s.find('fat')\n",
    "s[7:10]\n",
    "s.find('x')   #Index of a character   -1 if isnt found\n",
    "s[7:10]  #Slice of the string\n",
    "s[-6]\n",
    "data = {'spices' : ['chili','tumeric','anis','ginger','garlic']}\n",
    "df =pd.DataFrame(data)\n",
    "df['spices'].str.upper()  ##Applys Method on everythink in line\n",
    "df['spices'].str.startswith('g')\n",
    "df['spices'].str.find('c') \n",
    "df['spices'].str.len()\n",
    "df['spices'].str.replace('i','x')\n",
    "df['spices'].str.count('c') \n",
    "df['spices'].values  ##Convert to Numpy array\n",
    "df['spices'].str.split('@',expand=True) ##maybe for email adresses its nice\n",
    "## Dont store lists and dictionarys in a pandas data frame, because mess"
   ]
  }
 ],
 "metadata": {
  "kernelspec": {
   "display_name": "Python 3",
   "language": "python",
   "name": "python3"
  },
  "language_info": {
   "codemirror_mode": {
    "name": "ipython",
    "version": 3
   },
   "file_extension": ".py",
   "mimetype": "text/x-python",
   "name": "python",
   "nbconvert_exporter": "python",
   "pygments_lexer": "ipython3",
   "version": "3.7.6"
  }
 },
 "nbformat": 4,
 "nbformat_minor": 4
}
