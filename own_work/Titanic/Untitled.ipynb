{
 "cells": [
  {
   "cell_type": "code",
   "execution_count": 8,
   "metadata": {},
   "outputs": [
    {
     "data": {
      "text/plain": [
       "['anscombe',\n",
       " 'attention',\n",
       " 'brain_networks',\n",
       " 'car_crashes',\n",
       " 'diamonds',\n",
       " 'dots',\n",
       " 'exercise',\n",
       " 'flights',\n",
       " 'fmri',\n",
       " 'gammas',\n",
       " 'iris',\n",
       " 'mpg',\n",
       " 'planets',\n",
       " 'tips',\n",
       " 'titanic']"
      ]
     },
     "execution_count": 8,
     "metadata": {},
     "output_type": "execute_result"
    }
   ],
   "source": [
    "import seaborn as sns\n",
    "# tips = sns.load_datset('tips')\n",
    "sns.get_dataset_names()\n"
   ]
  },
  {
   "cell_type": "code",
   "execution_count": 15,
   "metadata": {},
   "outputs": [
    {
     "ename": "NameError",
     "evalue": "name 'show' is not defined",
     "output_type": "error",
     "traceback": [
      "\u001b[1;31m---------------------------------------------------------------------------\u001b[0m",
      "\u001b[1;31mNameError\u001b[0m                                 Traceback (most recent call last)",
      "\u001b[1;32m<ipython-input-15-9f77266513f5>\u001b[0m in \u001b[0;36m<module>\u001b[1;34m\u001b[0m\n\u001b[0;32m     47\u001b[0m \u001b[1;31m# Hinzufügen der beiden Visualisierungen in das Hauptdokument\u001b[0m\u001b[1;33m\u001b[0m\u001b[1;33m\u001b[0m\u001b[1;33m\u001b[0m\u001b[0m\n\u001b[0;32m     48\u001b[0m \u001b[0mcurdoc\u001b[0m\u001b[1;33m(\u001b[0m\u001b[1;33m)\u001b[0m\u001b[1;33m.\u001b[0m\u001b[0madd_root\u001b[0m\u001b[1;33m(\u001b[0m\u001b[0mrow\u001b[0m\u001b[1;33m(\u001b[0m\u001b[0mhist\u001b[0m\u001b[1;33m,\u001b[0m \u001b[0mbar\u001b[0m\u001b[1;33m)\u001b[0m\u001b[1;33m)\u001b[0m\u001b[1;33m\u001b[0m\u001b[1;33m\u001b[0m\u001b[0m\n\u001b[1;32m---> 49\u001b[1;33m \u001b[1;33m-\u001b[0m\u001b[1;33m-\u001b[0m\u001b[0mshow\u001b[0m\u001b[1;33m\u001b[0m\u001b[1;33m\u001b[0m\u001b[0m\n\u001b[0m",
      "\u001b[1;31mNameError\u001b[0m: name 'show' is not defined"
     ]
    }
   ],
   "source": [
    "import numpy as np\n",
    "from seaborn import load_dataset\n",
    "from bokeh.io import curdoc\n",
    "from bokeh.layouts import row\n",
    "from bokeh.models import ColumnDataSource\n",
    "from bokeh.plotting import figure\n",
    "\n",
    "# Festlegen des Dashboard Titles\n",
    "curdoc().title = \"Histogramm/Säulendiagramm\"\n",
    "\n",
    "# Datenset laden\n",
    "tips = load_dataset(\"tips\")\n",
    "\n",
    "# VISUALISIERUNGEN\n",
    "# Histogramm mit Numpy erstellen\n",
    "top_hist, x_hist = np.histogram(tips.total_bill)\n",
    "\n",
    "# Daten in Dict überführen\n",
    "source_hist = ColumnDataSource(data=dict(x=x_hist[:-1], top=top_hist))\n",
    "\n",
    "# Allgemeinen Plot erstellen\n",
    "hist = figure(plot_height=400, plot_width=400,\n",
    "              title=\"Histogramm\",\n",
    "              x_axis_label='total_bill',\n",
    "              y_axis_label='Absolute Häufigkeit')\n",
    "\n",
    "# Darstellung des Säulendiagramms\n",
    "hist.vbar(x='x', top='top', width=0.5, source=source_hist)\n",
    "\n",
    "# Kategoriale Variablen\n",
    "kat_data = tips.smoker.value_counts()\n",
    "x_kat = list(kat_data.index)\n",
    "top_kat = kat_data.values\n",
    "\n",
    "# Daten in Dict überführen\n",
    "source_kat = ColumnDataSource(data=dict(x=x_kat, top=top_kat))\n",
    "\n",
    "# Allgemeinen Plot erstellen\n",
    "bar = figure(x_range= x_kat, plot_height=400, plot_width=400,\n",
    "             title=\"Säulendiagramm\",\n",
    "             x_axis_label='smoker',\n",
    "             y_axis_label='Absolute Häufigkeit')\n",
    "\n",
    "# Darstellung des Säulendiagramm\n",
    "bar.vbar(x='x', top='top', width=0.1, source=source_kat)\n",
    "\n",
    "# Hinzufügen der beiden Visualisierungen in das Hauptdokument\n",
    "curdoc().add_root(row(hist, bar))\n",
    "--show"
   ]
  }
 ],
 "metadata": {
  "kernelspec": {
   "display_name": "Python 3",
   "language": "python",
   "name": "python3"
  },
  "language_info": {
   "codemirror_mode": {
    "name": "ipython",
    "version": 3
   },
   "file_extension": ".py",
   "mimetype": "text/x-python",
   "name": "python",
   "nbconvert_exporter": "python",
   "pygments_lexer": "ipython3",
   "version": "3.7.6"
  }
 },
 "nbformat": 4,
 "nbformat_minor": 4
}
