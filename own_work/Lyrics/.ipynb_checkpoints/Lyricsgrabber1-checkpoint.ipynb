{
 "cells": [
  {
   "cell_type": "code",
   "execution_count": 2,
   "metadata": {},
   "outputs": [],
   "source": [
    "import requests\n",
    "response= requests.get('https://www.lyrics.com/artist/Queen/5205')\n",
    "file = open(\"resp_text.txt\", \"w\")\n",
    "file.write(response.text)\n",
    "file.close()"
   ]
  },
  {
   "cell_type": "code",
   "execution_count": 3,
   "metadata": {},
   "outputs": [],
   "source": [
    "from bs4 import BeautifulSoup \n",
    "soup=BeautifulSoup(response.text)"
   ]
  },
  {
   "cell_type": "code",
   "execution_count": 4,
   "metadata": {},
   "outputs": [],
   "source": [
    "# response.text\n",
    "elements= soup.find_all(class_=\"tal qx\")"
   ]
  },
  {
   "cell_type": "code",
   "execution_count": 13,
   "metadata": {},
   "outputs": [],
   "source": [
    "# elements"
   ]
  },
  {
   "cell_type": "code",
   "execution_count": 8,
   "metadata": {},
   "outputs": [],
   "source": [
    "songtitle=[]\n",
    "links=[]\n",
    "for i in elements:\n",
    "    songtitle.append(i.strong.a.text)\n",
    "    links.append(\"https://www.lyrics.com\" +i.strong.a.get(\"href\"))\n",
    "    \n",
    "    "
   ]
  },
  {
   "cell_type": "code",
   "execution_count": null,
   "metadata": {},
   "outputs": [
    {
     "name": "stdout",
     "output_type": "stream",
     "text": [
      "https://www.lyrics.com/lyric/36577956/Queen/Innuendo\n",
      "https://www.lyrics.com/lyric/36577943/Queen/You+Don%27t+Fool+Me\n",
      "https://www.lyrics.com/lyric/36577933/Queen/Driven+by+You\n",
      "https://www.lyrics.com/lyric/35536602/Queen/Somebody+to+Love\n",
      "https://www.lyrics.com/lyric/35990802/Queen/Doing+All+Right\n",
      "https://www.lyrics.com/lyric/35536601/Queen/Doing+All+Right...+Revisited\n",
      "https://www.lyrics.com/lyric/35703948/Queen/Keep+Yourself+Alive\n",
      "https://www.lyrics.com/lyric/35536599/Queen/Killer+Queen\n",
      "https://www.lyrics.com/lyric/35703946/Queen/Fat+Bottomed+Girls\n",
      "https://www.lyrics.com/lyric/35536597/Queen/Bohemian+Rhapsody\n",
      "https://www.lyrics.com/lyric/35703944/Queen/Now+I%27m+Here\n",
      "https://www.lyrics.com/lyric/35703942/Queen/Love+of+My+Life\n",
      "https://www.lyrics.com/lyric/35703941/Queen/We+Will+Rock+You\n",
      "https://www.lyrics.com/lyric/35536592/Queen/Another+One+Bites+the+Dust\n",
      "https://www.lyrics.com/lyric/35536591/Queen/I+Want+to+Break+Free\n",
      "https://www.lyrics.com/lyric/35536590/Queen/Under+Pressure\n",
      "https://www.lyrics.com/lyric/35536589/Queen/Who+Wants+to+Live+Forever\n",
      "https://www.lyrics.com/lyric/35703935/Queen/Radio+Ga+Ga\n",
      "https://www.lyrics.com/lyric/35703933/Queen/Hammer+to+Fall\n",
      "https://www.lyrics.com/lyric/35703932/Queen/We+Are+the+Champions\n",
      "https://www.lyrics.com/lyric/35703931/Queen/Don%27t+Stop+Me+Now\n",
      "https://www.lyrics.com/lyric/35536582/Queen/The+Show+Must+Go+on\n",
      "https://www.lyrics.com/lyric/35910588/Queen/Under+Pressure\n",
      "https://www.lyrics.com/lyric/35488133/Queen/Under+Pressure\n",
      "https://www.lyrics.com/lyric/36036372/Queen/Under+Pressure\n",
      "https://www.lyrics.com/lyric/34331794/Queen/I+Want+to+Break+Free\n",
      "https://www.lyrics.com/lyric/34433402/Queen/Under+Pressure+%5BSingle+Version%5D+%5B2017+Remastered+Version%5D\n",
      "https://www.lyrics.com/lyric/34446770/Queen/Under+Pressure+%5BVersion%5D\n",
      "https://www.lyrics.com/lyric/34912272/Queen/Brighton+Rock\n",
      "https://www.lyrics.com/lyric/34074256/Queen/Brighton+Rock\n",
      "https://www.lyrics.com/lyric/34073704/Queen/Brighton+Rock\n",
      "https://www.lyrics.com/lyric/34433178/Queen/Brighton+Rock\n",
      "https://www.lyrics.com/lyric/34227061/Queen/We+Will+Rock+You\n",
      "https://www.lyrics.com/lyric/34617431/Queen/Another+One+Bites+the+Dust\n",
      "https://www.lyrics.com/lyric/33683896/Queen/Radio+Ga+Ga\n",
      "https://www.lyrics.com/lyric/32670866/Queen/Under+Pressure\n",
      "https://www.lyrics.com/lyric/32896734/Queen/Killer+Queen\n",
      "https://www.lyrics.com/lyric/33357599/Queen/Under+Pressure\n",
      "https://www.lyrics.com/lyric/33440100/Queen/Under+Pressure\n",
      "https://www.lyrics.com/lyric/33528658/Queen/Under+Pressure\n",
      "https://www.lyrics.com/lyric/33357560/Queen/Under+Pressure\n",
      "https://www.lyrics.com/lyric/33123523/Queen/The+Great+Pretender\n",
      "Couldnt create/grab https://www.lyrics.com/lyric/33359369/Queen/My+Fairy+King+%5BSession+1%5D\n",
      "https://www.lyrics.com/lyric/33359368/Queen/Keep+Yourself+Alive+%5BSession+1%5D\n",
      "https://www.lyrics.com/lyric/33359367/Queen/Doing+All+Right+%5BSession+1%5D\n",
      "https://www.lyrics.com/lyric/33359366/Queen/Liar+%5BSession+1%5D\n",
      "https://www.lyrics.com/lyric/33359365/Queen/See+What+a+Fool+I%27ve+Been+%5BSession+2%5D\n",
      "https://www.lyrics.com/lyric/33359364/Queen/Keep+Yourself+Alive+%5BSession+2%5D\n",
      "Couldnt create/grab https://www.lyrics.com/lyric/33359363/Queen/Liar+%5BSession+2%5D\n",
      "https://www.lyrics.com/lyric/33359362/Queen/Son+and+Daughter+%5BSession+2%5D\n",
      "https://www.lyrics.com/lyric/33359361/Queen/Ogre+Battle+%5BSession+3%5D\n",
      "https://www.lyrics.com/lyric/33359360/Queen/Modern+Times+Rock+%27n%27+Roll+%5BSession+3%5D\n",
      "https://www.lyrics.com/lyric/33359359/Queen/Great+King+Rat+%5BSession+3%5D\n",
      "https://www.lyrics.com/lyric/33359358/Queen/Son+and+Daughter+%5BSession+3%5D\n",
      "https://www.lyrics.com/lyric/33359357/Queen/Modern+Times+Rock+%27n%27+Roll+%5BSession+4%5D\n",
      "https://www.lyrics.com/lyric/33359356/Queen/Nevermore+%5BSession+4%5D\n",
      "https://www.lyrics.com/lyric/33359355/Queen/White+Queen+%28As+It+Began%29+%5BSession+4%5D\n",
      "https://www.lyrics.com/lyric/33359354/Queen/Now+I%27m+Here+%5BSession+5%5D\n",
      "https://www.lyrics.com/lyric/33359353/Queen/Stone+Cold+Crazy+%5BSession+5%5D\n",
      "https://www.lyrics.com/lyric/33359352/Queen/Flick+of+the+Wrist+%5BSession+5%5D\n",
      "https://www.lyrics.com/lyric/33359351/Queen/Tenement+Funster+%5BSession+5%5D\n",
      "https://www.lyrics.com/lyric/33359350/Queen/We+Will+Rock+You+%5BSession+6%5D\n",
      "Couldnt create/grab https://www.lyrics.com/lyric/33359349/Queen/We+Will+Rock+You+%5BFast%5D+%5BSession+6%5D\n"
     ]
    },
    {
     "name": "stderr",
     "output_type": "stream",
     "text": [
      "From cffi callback <function _verify_callback at 0x00000276557104C8>:\n",
      "Traceback (most recent call last):\n",
      "  File \"C:\\Users\\User\\anaconda3\\lib\\site-packages\\OpenSSL\\SSL.py\", line 311, in wrapper\n",
      "    @wraps(callback)\n",
      "KeyboardInterrupt\n"
     ]
    },
    {
     "name": "stdout",
     "output_type": "stream",
     "text": [
      "Couldnt create/grab https://www.lyrics.com/lyric/33359348/Queen/Spread+Your+Wings+%5BSession+6%5D\n",
      "https://www.lyrics.com/lyric/33359347/Queen/It%27s+Late+%5BSession+6%5D\n",
      "https://www.lyrics.com/lyric/33359346/Queen/My+Melancholy+Blues+%5BSession+6%5D\n",
      "https://www.lyrics.com/lyric/33400031/Queen/Keep+Yourself+Alive\n",
      "https://www.lyrics.com/lyric/33400034/Queen/Doing+All+Right\n",
      "https://www.lyrics.com/lyric/33400030/Queen/Liar\n",
      "https://www.lyrics.com/lyric/33400032/Queen/See+What+a+Fool+I%E2%80%99ve+Been\n",
      "https://www.lyrics.com/lyric/33400025/Queen/Son+and+Daughter\n",
      "https://www.lyrics.com/lyric/33400028/Queen/Ogre+Battle\n",
      "https://www.lyrics.com/lyric/33400027/Queen/Modern+Times+Rock%E2%80%99n%E2%80%99Roll\n",
      "https://www.lyrics.com/lyric/33400026/Queen/Great+King+Rat\n",
      "https://www.lyrics.com/lyric/33400047/Queen/Nevermore\n",
      "https://www.lyrics.com/lyric/33400046/Queen/White+Queen\n",
      "https://www.lyrics.com/lyric/33400045/Queen/Now+I%E2%80%99m+Here\n",
      "https://www.lyrics.com/lyric/33400044/Queen/Stone+Cold+Crazy\n",
      "https://www.lyrics.com/lyric/33400043/Queen/Flick+of+the+Wrist\n",
      "https://www.lyrics.com/lyric/33400042/Queen/Tenement+Funster\n",
      "https://www.lyrics.com/lyric/33400041/Queen/We+Will+Rock+You\n",
      "https://www.lyrics.com/lyric/33400040/Queen/We+Will+Rock+You+%5BFast+Version%5D\n",
      "https://www.lyrics.com/lyric/33400039/Queen/Spread+Your+Wings\n",
      "https://www.lyrics.com/lyric/33400038/Queen/It%E2%80%99s+Late\n",
      "https://www.lyrics.com/lyric/33400037/Queen/My+Melancholy+Blues\n",
      "https://www.lyrics.com/lyric/33449784/Queen/Father+to+Son+%5BGolders+Green+Hippodrome%2C+London%2C+13th+September+1973%5D\n",
      "https://www.lyrics.com/lyric/33449774/Queen/Ogre+Battle+%5BGolders+Green+Hippodrome%2C+London%2C+13th+September+1973%5D\n",
      "https://www.lyrics.com/lyric/33449775/Queen/Liar+%5BGolders+Green+Hippodrome%2C+London%2C+13th+September+1973%5D\n",
      "https://www.lyrics.com/lyric/33449776/Queen/Jailhouse+Rock+%5BGolders+Green+Hippodrome%2C+London%2C+13th+September+1973%5D\n",
      "https://www.lyrics.com/lyric/33449782/Queen/Dragon+Attack+%5BEst%C3%A1dio+Do+Morumbi%2C+S%C3%A3o+Paulo%2C+Brazil%2C+20th+March+1981%5D\n",
      "https://www.lyrics.com/lyric/33449763/Queen/Now+I%E2%80%99m+Here+%5BEst%C3%A1dio+Do+Morumbi%2C+S%C3%A3o+Paulo%2C+Brazil%2C+20th+March+1981%5D\n",
      "https://www.lyrics.com/lyric/33449764/Queen/Love+of+My+Life+%5BEst%C3%A1dio+Do+Morumbi%2C+S%C3%A3o+Paulo%2C+Brazil%2C+20th+March+1981\n",
      "https://www.lyrics.com/lyric/33449765/Queen/A+Kind+of+Magic+%5BMaimmarktgel%C3%A4nde%2C+Mannheim%2C+Germany%2C+21st+June+1986%5D\n",
      "https://www.lyrics.com/lyric/33449767/Queen/Under+Pressure+%5BMaimmarktgel%C3%A4nde%2C+Mannheim%2C+Germany%2C+21st+June+1986%5D\n",
      "https://www.lyrics.com/lyric/33444459/Queen/My+Fairy+King+%5BBBC+Session+-+February+5th+1973%2C+Langham+1+Studio%5D\n",
      "Couldnt create/grab https://www.lyrics.com/lyric/33444460/Queen/Keep+Yourself+Alive+%5BBBC+Session+-+February+5th+1973%2C+Langham+1+Studio%5D\n",
      "https://www.lyrics.com/lyric/33444461/Queen/Doing+All+Right+%5BBBC+Session+-+February+5th+1973%2C+Langham+1+Studio%5D\n",
      "https://www.lyrics.com/lyric/33444464/Queen/Keep+Yourself+Alive+%5BBBC+Session-July+25th+1973%2C+Langham+1+Studio%5D\n",
      "https://www.lyrics.com/lyric/33444466/Queen/Son+and+Daughter+%5BBBC+Session-July+25th+1973%2C+Langham+1+Studio%5D\n",
      "https://www.lyrics.com/lyric/33444467/Queen/Ogre+Battle+%5BBBC+Session-December+3rd+1973%2C+Langham+1+Studio%5D\n",
      "https://www.lyrics.com/lyric/33444469/Queen/Great+King+Rat+%5BBBC+Session-December+3rd+1973%2C+Langham+1+Studio%5D\n",
      "https://www.lyrics.com/lyric/33444470/Queen/Son+and+Daughter+%5BBBC+Session-December+3rd+1973%2C+Langham+1+Studio%5D\n",
      "https://www.lyrics.com/lyric/33444448/Queen/Nevermore+%5BBBC+Session-April+3rd+1974%2C+Langham+1+Studio%5D\n",
      "Couldnt create/grab https://www.lyrics.com/lyric/33444450/Queen/Now+I%27m+Here+%5BBBC+Session-October+16th+1974%2C+Maida+Vale+4+Studio%5D\n",
      "https://www.lyrics.com/lyric/33444451/Queen/Stone+Cold+Crazy+%5BBBC+Session-October+16th+1974%2C+Maida+Vale+4+Studio%5D\n",
      "https://www.lyrics.com/lyric/33444452/Queen/Flick+of+the+Wrist+%5BBBC+Session-October+16th+1974%2C+Maida+Vale+4+Studio%5D\n",
      "https://www.lyrics.com/lyric/33444453/Queen/Tenement+Funster+%5BBBC+Session-October+16th+1974%2C+Maida+Vale+4+Studio%5D\n"
     ]
    }
   ],
   "source": [
    "import time\n",
    "import os\n",
    "for link in links:\n",
    "        try:\n",
    "            getter=requests.get(link)\n",
    "            soup2=BeautifulSoup(getter.text)\n",
    "            titel=soup2.h1.text\n",
    "            artist=soup2.h3.a.text\n",
    "    #       album=soup2.h1.text\n",
    "            lyrics=soup2.find(id=\"lyric-body-text\").text\n",
    "            dirname = f'data/{artist}/{titel}.txt'\n",
    "            os.makedirs(os.path.dirname(dirname), exist_ok=True)\n",
    "            open(f'data/{artist}/{titel}.txt','a+').write(lyrics)\n",
    "            print(link)\n",
    "        except: \n",
    "            print(f'Couldnt create/grab {link}')\n",
    "            \n",
    "        \n",
    "#         time.sleep(3)\n",
    "        \n"
   ]
  },
  {
   "cell_type": "code",
   "execution_count": null,
   "metadata": {},
   "outputs": [],
   "source": []
  },
  {
   "cell_type": "code",
   "execution_count": null,
   "metadata": {},
   "outputs": [],
   "source": [
    "soup2.h1.text"
   ]
  },
  {
   "cell_type": "code",
   "execution_count": null,
   "metadata": {},
   "outputs": [],
   "source": []
  },
  {
   "cell_type": "code",
   "execution_count": null,
   "metadata": {},
   "outputs": [],
   "source": []
  },
  {
   "cell_type": "code",
   "execution_count": null,
   "metadata": {},
   "outputs": [],
   "source": []
  },
  {
   "cell_type": "code",
   "execution_count": null,
   "metadata": {},
   "outputs": [],
   "source": [
    "for line in open('output.txt'):\n",
    "    print(line.strip())  # good for tables and similar\n"
   ]
  },
  {
   "cell_type": "code",
   "execution_count": null,
   "metadata": {},
   "outputs": [],
   "source": [
    "print(songs)"
   ]
  },
  {
   "cell_type": "code",
   "execution_count": null,
   "metadata": {},
   "outputs": [],
   "source": [
    "for elem in songs:\n",
    "    print(elem)\n",
    "    \n",
    "    for link in urls:\n",
    "        requests.get(link)\n",
    "        time.sleep(3)"
   ]
  }
 ],
 "metadata": {
  "kernelspec": {
   "display_name": "Python 3",
   "language": "python",
   "name": "python3"
  },
  "language_info": {
   "codemirror_mode": {
    "name": "ipython",
    "version": 3
   },
   "file_extension": ".py",
   "mimetype": "text/x-python",
   "name": "python",
   "nbconvert_exporter": "python",
   "pygments_lexer": "ipython3",
   "version": "3.7.6"
  }
 },
 "nbformat": 4,
 "nbformat_minor": 4
}
