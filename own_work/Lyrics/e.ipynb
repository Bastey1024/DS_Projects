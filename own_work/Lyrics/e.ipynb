{
 "cells": [
  {
   "cell_type": "code",
   "execution_count": 14,
   "metadata": {},
   "outputs": [],
   "source": [
    "from sklearn.model_selection import train_test_split\n",
    "import pandas as pd\n",
    "data=pd.read_pickle('corpus.pkl')\n",
    "\n",
    "\n",
    "\n",
    "data_train, data_test = train_test_split(data, test_size=0.75, random_state=42)"
   ]
  },
  {
   "cell_type": "code",
   "execution_count": null,
   "metadata": {},
   "outputs": [],
   "source": []
  },
  {
   "cell_type": "code",
   "execution_count": 26,
   "metadata": {},
   "outputs": [
    {
     "ename": "NameError",
     "evalue": "name 'B' is not defined",
     "output_type": "error",
     "traceback": [
      "\u001b[1;31m---------------------------------------------------------------------------\u001b[0m",
      "\u001b[1;31mNameError\u001b[0m                                 Traceback (most recent call last)",
      "\u001b[1;32m<ipython-input-26-d71a571a8a74>\u001b[0m in \u001b[0;36m<module>\u001b[1;34m\u001b[0m\n\u001b[0;32m      2\u001b[0m \u001b[1;32mfrom\u001b[0m \u001b[0msklearn\u001b[0m\u001b[1;33m.\u001b[0m\u001b[0mfeature_extraction\u001b[0m\u001b[1;33m.\u001b[0m\u001b[0mtext\u001b[0m \u001b[1;32mimport\u001b[0m \u001b[0mCountVectorizer\u001b[0m\u001b[1;33m,\u001b[0m \u001b[0mTfidfTransformer\u001b[0m\u001b[1;33m\u001b[0m\u001b[1;33m\u001b[0m\u001b[0m\n\u001b[0;32m      3\u001b[0m \u001b[1;32mfrom\u001b[0m \u001b[0msklearn\u001b[0m\u001b[1;33m.\u001b[0m\u001b[0mnaive_bayes\u001b[0m \u001b[1;32mimport\u001b[0m \u001b[0mMultinomialNB\u001b[0m\u001b[1;33m\u001b[0m\u001b[1;33m\u001b[0m\u001b[0m\n\u001b[1;32m----> 4\u001b[1;33m \u001b[0mB\u001b[0m\u001b[1;33m\u001b[0m\u001b[1;33m\u001b[0m\u001b[0m\n\u001b[0m\u001b[0;32m      5\u001b[0m \u001b[1;31m### A SMARTER VERSION USING SKLEARN PIPELINES\u001b[0m\u001b[1;33m\u001b[0m\u001b[1;33m\u001b[0m\u001b[1;33m\u001b[0m\u001b[0m\n\u001b[0;32m      6\u001b[0m \u001b[1;32mdef\u001b[0m \u001b[0mtrain_model_pipeline\u001b[0m\u001b[1;33m(\u001b[0m\u001b[0mtext\u001b[0m\u001b[1;33m,\u001b[0m \u001b[0mlabels\u001b[0m\u001b[1;33m,\u001b[0m \u001b[0msw\u001b[0m\u001b[1;33m=\u001b[0m\u001b[1;34m'english'\u001b[0m\u001b[1;33m,\u001b[0m \u001b[1;33m**\u001b[0m\u001b[0mkwargs\u001b[0m\u001b[1;33m)\u001b[0m\u001b[1;33m:\u001b[0m\u001b[1;33m\u001b[0m\u001b[1;33m\u001b[0m\u001b[0m\n",
      "\u001b[1;31mNameError\u001b[0m: name 'B' is not defined"
     ]
    }
   ],
   "source": [
    "from sklearn.pipeline import make_pipeline\n",
    "from sklearn.feature_extraction.text import CountVectorizer, TfidfTransformer\n",
    "from sklearn.naive_bayes import MultinomialNB\n",
    "B\n",
    "### A SMARTER VERSION USING SKLEARN PIPELINES\n",
    "def train_model_pipeline(text, labels, sw='english', **kwargs):\n",
    "    \n",
    "    \"\"\"\n",
    "    Parameters / Arguments\n",
    "    -----------------------\n",
    "    \n",
    "    first : array-like\n",
    "        List of documents / songs as strings.\n",
    "    \n",
    "    second : array-like\n",
    "        List of labels / artists as strings.\n",
    "        \n",
    "    third : optional. Defaults to 'english'.\n",
    "        Tweak the stop words hyperparameter.\n",
    "        \n",
    "    Returns\n",
    "    --------\n",
    "    \n",
    "    A pre-trained sklearn pipeline, which consists of:\n",
    "        - CountVectorizer\n",
    "        - TfidfTransformer\n",
    "        - Multinomial Naive Bayes\n",
    "    \"\"\"\n",
    "\n",
    "    cv = CountVectorizer(stop_words = sw)\n",
    "    tf = TfidfTransformer()\n",
    "    m = MultinomialNB(**kwargs)\n",
    "    \n",
    "    pipeline = make_pipeline(cv, tf, m)\n",
    "    pipeline.fit(text, labels)\n",
    "  \n",
    "    return pipeline"
   ]
  },
  {
   "cell_type": "code",
   "execution_count": null,
   "metadata": {},
   "outputs": [],
   "source": []
  },
  {
   "cell_type": "code",
   "execution_count": 30,
   "metadata": {},
   "outputs": [],
   "source": [
    "train=train_model_pipeline(data_train.Lyrics, data_train.loc['Queen'], sw='english', alpha=3.0)"
   ]
  },
  {
   "cell_type": "code",
   "execution_count": 29,
   "metadata": {},
   "outputs": [],
   "source": [
    "\n",
    "#type annotation\n",
    "def predict_new_lyrics(model_pipeline, text:str) -> str:\n",
    "    \n",
    "    \"\"\"\n",
    "    Parameters / Arguments\n",
    "    -----------------------\n",
    "    \n",
    "    first : \n",
    "        pre-trained sklearn model pipeline.\n",
    "    \n",
    "    second : string\n",
    "        String of new text\n",
    "        \n",
    "    Returns\n",
    "    --------\n",
    "    \n",
    "    string\n",
    "        name of the predicted label / artist.\n",
    "    \"\"\"\n",
    "    \n",
    "    return model_pipeline.predict([text])[0]\n",
    "    "
   ]
  }
 ],
 "metadata": {
  "kernelspec": {
   "display_name": "Python 3",
   "language": "python",
   "name": "python3"
  },
  "language_info": {
   "codemirror_mode": {
    "name": "ipython",
    "version": 3
   },
   "file_extension": ".py",
   "mimetype": "text/x-python",
   "name": "python",
   "nbconvert_exporter": "python",
   "pygments_lexer": "ipython3",
   "version": "3.7.6"
  }
 },
 "nbformat": 4,
 "nbformat_minor": 4
}
